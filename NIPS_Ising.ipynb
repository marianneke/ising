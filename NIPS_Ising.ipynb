{
 "cells": [
  {
   "cell_type": "code",
   "execution_count": 51,
   "metadata": {
    "collapsed": false
   },
   "outputs": [
    {
     "data": {
      "text/html": [
       "<script>\n",
       "$(\"div.input\").hide();\n",
       "code_show=true; \n",
       "function code_toggle() {\n",
       " if (code_show){\n",
       "   $(\"div.input:not(:first)\").hide();\n",
       "   $(\"div.prompt\").hide();\n",
       " } else {\n",
       "   $(\"div.input:not(:first)\").show();\n",
       "   $(\"div.prompt\").show();\n",
       " }\n",
       " code_show = !code_show\n",
       "} \n",
       "$( document ).ready(code_toggle);\n",
       "</script>\n",
       "<style>\n",
       "    .sidebar-wrapper {\n",
       "        border-style: none\n",
       "    }\n",
       "    \n",
       "    /* Pretty Pandas Dataframes */\n",
       "    .dataframe * {border-color: #ffffff !important;}\n",
       "    .dataframe td {\n",
       "        text-align: right; \n",
       "        min-width:5em;\n",
       "    }\n",
       "    .dataframe tbody tr:nth-child(odd) {\n",
       "        background: #f5f5f5;\n",
       "    }\n",
       "</style>\n",
       "<form action=\"javascript:code_toggle()\"><input type=\"submit\" value=\"Hide/show code.\"></form>"
      ],
      "text/plain": [
       "<IPython.core.display.HTML object>"
      ]
     },
     "metadata": {},
     "output_type": "display_data"
    }
   ],
   "source": [
    "%%html\n",
    "<script>\n",
    "$(\"div.input\").hide();\n",
    "code_show=true; \n",
    "function code_toggle() {\n",
    " if (code_show){\n",
    "   $(\"div.input:not(:first)\").hide();\n",
    "   $(\"div.prompt\").hide();\n",
    " } else {\n",
    "   $(\"div.input:not(:first)\").show();\n",
    "   $(\"div.prompt\").show();\n",
    " }\n",
    " code_show = !code_show\n",
    "} \n",
    "$( document ).ready(code_toggle);\n",
    "</script>\n",
    "<style>\n",
    "    .sidebar-wrapper {\n",
    "        border-style: none\n",
    "    }\n",
    "    \n",
    "    /* Pretty Pandas Dataframes */\n",
    "    .dataframe * {border-color: #ffffff !important;}\n",
    "    .dataframe td {\n",
    "        text-align: right; \n",
    "        min-width:5em;\n",
    "    }\n",
    "    .dataframe tbody tr:nth-child(odd) {\n",
    "        background: #f5f5f5;\n",
    "    }\n",
    "</style>\n",
    "<form action=\"javascript:code_toggle()\"><input type=\"submit\" value=\"Hide/show code.\"></form>"
   ]
  },
  {
   "cell_type": "markdown",
   "metadata": {},
   "source": [
    "# NIPS impementation challenge: \"Concentration of Multilinear Functions of the Ising Model with Applications to Network Data\"\n",
    "\n",
    "This notebook provides some example code to implement the algorithm mentioned in [<a href=\"\">Daskalakis et al. 2017</a>] for testing the hypothesis that a synthetic sample generated via some process which causes it to be different from an Ising model in the high temperature regime  could have been sampled from an Ising model in the high temperature regime. This departure of the generated lattice from the high-temperature limit of the Ising model is parameterized by some number $\\tau \\in [0, 1]$ and here the results in [<a href=\"\">Daskalakis et al. 2017</a>] are confirmed for the values of $\\tau$ where the statistic used can detect this departure."
   ]
  },
  {
   "cell_type": "code",
   "execution_count": 1,
   "metadata": {
    "collapsed": true
   },
   "outputs": [],
   "source": [
    "import itertools\n",
    "\n",
    "import numpy as np\n",
    "import scipy as sp\n",
    "\n",
    "import matplotlib.pyplot as plt\n",
    "import seaborn as sns\n",
    "sns.set()\n",
    "\n",
    "%matplotlib inline"
   ]
  },
  {
   "cell_type": "markdown",
   "metadata": {},
   "source": [
    "## Construct samples\n",
    "\n",
    "### Social network\n",
    "\n",
    "Our departures from the null hypothesis are generated in the following manner, parameterized by some parameter $\\tau \\in [0, 1]$. The grid is initialized by setting each node independently to be $-1$ or $1$ with equal probability. We then iterate over the nodes in column major order. For the node $x$ at position $v_x = (i, j)$, we select a node $y$ at one of the following positions uniformly at random: $v_1 = (i, j + 1),\\; v_2 = (i, j + 2),\\; v_3 = (i + 1, j + 1),\\; v_4 = (i + 1, j),\\; v_5 = (i + 2,j),\\; v_6 = (i + 1, j − 1)$. Then, with probability $\\tau$, we set $y$ to have the same value as $x$. We imagine this construction as a type of social network model, where each individual tries to convert one of his nearby connections in the network to match his signal, and is successful with probability $\\tau$.\n"
   ]
  },
  {
   "cell_type": "code",
   "execution_count": 2,
   "metadata": {
    "collapsed": false
   },
   "outputs": [
    {
     "name": "stdout",
     "output_type": "stream",
     "text": [
      "Critical value of theta: 0.44068679351\n"
     ]
    }
   ],
   "source": [
    "# Constants\n",
    "theta_critical = np.log(1 + np.sqrt(2)) / 2\n",
    "print \"Critical value of theta:\", theta_critical"
   ]
  },
  {
   "cell_type": "code",
   "execution_count": 3,
   "metadata": {
    "collapsed": false
   },
   "outputs": [],
   "source": [
    "def array_index_from_row_col(row, col, n_cols):\n",
    "    return col + row * n_cols\n",
    "\n",
    "\n",
    "def get_neighbors(u, N, distance=1):\n",
    "    \"\"\"List all neighbors for a given vertex u on an NxN lattice.\"\"\"\n",
    "    row, col = u // N, u % N\n",
    "    neighbors = []\n",
    "    for i in range(1, distance + 1):\n",
    "        # find a way to implement combinatorical way of\n",
    "        # dividing i units among row and col bins\n",
    "        for j in itertools.combinations_with_replacement('rc', i):\n",
    "            neighbors.extend([\n",
    "                array_index_from_row_col((row + j.count('r')) % N,\n",
    "                                            (col + j.count('c')) % N, N),\n",
    "                array_index_from_row_col((row - j.count('r')) % N,\n",
    "                                            (col - j.count('c')) % N, N),\n",
    "                array_index_from_row_col((row + j.count('r')) % N,\n",
    "                                            (col - j.count('c')) % N, N),\n",
    "                array_index_from_row_col((row - j.count('r')) % N,\n",
    "                                            (col + j.count('c')) % N, N)\n",
    "            ])\n",
    "    return list(set(neighbors))\n",
    "\n",
    "\n",
    "def random_array(number_of_nodes):\n",
    "    \"\"\"Return random array {-1, 1}^number_of_nodes.\"\"\"\n",
    "    random_array = np.random.randint(2, size=number_of_nodes)\n",
    "    random_array[random_array == 0] = -1  # set 0 values to -1\n",
    "    return random_array\n",
    "\n",
    "\n",
    "def stochastic_social_network(n_rows, n_cols, tau):\n",
    "    \"\"\"Construct an n_rows x n_cols grid of up and down spins.\n",
    "\n",
    "    :param int n_rows: number of rows\n",
    "    :param int n_cols: number of columns\n",
    "    :param float tau: number between 0 and 1 that parameterizes the distance\n",
    "        from a perfectly random grid by introducing correlations between nearby\n",
    "        spins. In particular, it is the probability that a given spin can\n",
    "        'convince' one of its 'friends' (Manhattan distance 2 or less) to copy\n",
    "        its value\n",
    "    \"\"\"\n",
    "    social_grid = random_array(n_rows * n_cols)  # initialize social grid as random\n",
    "    # iterate over index of vertices in column major order\n",
    "    for v_x in range(len(social_grid)):\n",
    "        # get row and column number for selected vertex v_x\n",
    "        row, col = v_x // n_cols, v_x % n_cols\n",
    "        # list nearby vertices that are:\n",
    "        # - at Manhattan distance 2 or less from v_x\n",
    "        # - to the right or below v_x (using periodic boundary conditions)\n",
    "        v_1 = array_index_from_row_col(row, ((col + 1) % n_cols), n_cols)\n",
    "        v_2 = array_index_from_row_col(row, ((col + 2) % n_cols), n_cols)\n",
    "        v_3 = array_index_from_row_col(\n",
    "            (row + 1) % n_rows, ((col + 1) % n_cols), n_cols)\n",
    "        v_4 = array_index_from_row_col(((row + 1) % n_rows), col, n_cols)\n",
    "        v_5 = array_index_from_row_col(((row + 2) % n_rows), col, n_cols)\n",
    "        v_6 = array_index_from_row_col(\n",
    "            ((row + 1) % n_rows), ((col - 1) % n_cols), n_cols)\n",
    "        # pick uniformly at random from [v_1, ..., v_5]\n",
    "        v_y = np.random.choice([v_1, v_2, v_3, v_4, v_5, v_6])\n",
    "        # Pick a number between 0 and 1 with p(1) = tau\n",
    "        convinced = np.random.choice([True, False], p=[tau, 1-tau])\n",
    "        if convinced:\n",
    "            social_grid[v_y] = social_grid[v_x]\n",
    "    # TODO: reshape into 2D array\n",
    "    return social_grid\n",
    "\n",
    "\n",
    "class Ising_lattice(object):\n",
    "    \"\"\"Constructs NxN Ising lattice with nearest-neighbor interaction theta.\"\"\"\n",
    "    \n",
    "    def __init__(self, N, theta):\n",
    "        self.N = N\n",
    "        self.theta = theta\n",
    "        self.mixing_time = self._mixing_time()\n",
    "        self.glauber_transition_probabilities = self._compute_glauber_transition_probabilities()\n",
    "        # Create an Ising state by running Glauber dynamics until mixing occurs\n",
    "        self.ising_lattice = self.create_ising_lattice()\n",
    "    \n",
    "    def _compute_glauber_transition_probabilities(self):\n",
    "        return {delta: 1. / (1 + np.exp(self.theta * delta))\n",
    "                for delta in (-8, -4, 0, 4, 8)}\n",
    "    \n",
    "    \n",
    "    def _mixing_time(self):\n",
    "        \"\"\"Estimate mixing time for eta-high-temperature regime.\"\"\"\n",
    "        n_nodes = self.N ** 2\n",
    "        eta = 1 - np.tanh(self.theta)\n",
    "        mixing_time = int(n_nodes * np.log(n_nodes) / eta)\n",
    "        return mixing_time\n",
    "            \n",
    "    \n",
    "    def glauber_step(self, lattice):\n",
    "        \"\"\"Perform one step in Glauber dynamics.\"\"\"\n",
    "        # Choose a random spin i\n",
    "        v_i = np.random.randint(self.N ** 2)\n",
    "        row_i, col_i = v_i // self.N, v_i % self.N\n",
    "        # Find its nearest neighbours and compute energy delta\n",
    "        v_N = array_index_from_row_col(((row_i - 1) % self.N), col_i, self.N)\n",
    "        v_E = array_index_from_row_col(row_i, ((col_i + 1) % self.N), self.N)\n",
    "        v_S = array_index_from_row_col((row_i + 1) % self.N, col_i, self.N)\n",
    "        v_W = array_index_from_row_col(row_i, ((col_i - 1) % self.N), self.N)\n",
    "        delta = 2 * lattice[v_i] * (\n",
    "            lattice[v_N] + lattice[v_E] + lattice[v_S] + lattice[v_W])\n",
    "        # Look up transition probability p_flip\n",
    "        p_flip = self.glauber_transition_probabilities[delta]\n",
    "        # With probability p_flip, flip spin i\n",
    "        random_number = np.random.uniform()\n",
    "        if random_number < p_flip:\n",
    "            lattice[v_i] *= -1\n",
    "        return lattice\n",
    "\n",
    "    \n",
    "    def create_ising_lattice(self):\n",
    "        \"\"\"Run the Glauber dynamics long enough to reach mixing.\"\"\"\n",
    "        # initialize lattice at random\n",
    "        lattice = random_array(self.N ** 2)\n",
    "        \n",
    "        for _ in range(self.mixing_time):\n",
    "            lattice = self.glauber_step(lattice)\n",
    "        \n",
    "        return lattice\n",
    "    \n",
    "    \n",
    "    def sample_ising_states(self, n_samples):\n",
    "        \"\"\"Starting from an Ising state, create a collection of n_samples.\"\"\"\n",
    "        intermediate_state = self.ising_lattice\n",
    "        samples = []\n",
    "        \n",
    "        for _ in range(n_samples):\n",
    "            intermediate_state = glauber_step(intermediate_state)\n",
    "            samples.append(intermediate_state)\n",
    "        \n",
    "        return samples"
   ]
  },
  {
   "cell_type": "code",
   "execution_count": 4,
   "metadata": {
    "collapsed": true
   },
   "outputs": [],
   "source": [
    "def L(theta, lattice):\n",
    "    N = len(lattice)\n",
    "    return (float(theta) / N) * (\n",
    "        lattice[1] * (lattice[0] - np.tanh(theta * lattice[1])) +\n",
    "        lattice[N - 2] * (lattice[N - 1] - np.tanh(theta * lattice[N - 2])) +\n",
    "        sum([(lattice[i - 1] + lattice[i + 1]) * (lattice[i] - np.tanh(\n",
    "            theta * (lattice[i-1] + lattice[i + 1]))) for i in range(1, N - 1)])\n",
    "    )\n",
    "\n",
    "\n",
    "def maximum_partial_likelihood_estimator(lattice):\n",
    "    \"\"\"MPLE for theta under the assumption of a nearest-neighbours Ising model.\"\"\"\n",
    "    return sp.optimize.fsolve(L, 0.5, args=(lattice))[0]\n",
    "\n",
    "\n",
    "def local_partition_function(lattice, N, external_field=0, distance=2):\n",
    "    \"\"\"Compute the local partition function for a lattice.\"\"\"\n",
    "    offset = np.tanh(external_field)\n",
    "    return sum([(lattice[u] - offset) * sum([\n",
    "            (lattice[v] - offset) for v in get_neighbors(u, N, distance=distance)])\n",
    "                    for u in range(len(lattice))])\n",
    "\n",
    "\n",
    "def hypothesis_test_high_temp_ising(lattice, number_ising_samples=100):\n",
    "    \"\"\"Perform a hypothesis test on a square test lattice.\"\"\"\n",
    "    reject_null_hypothesis = 0\n",
    "    theta_mple = maximum_partial_likelihood_estimator(lattice)\n",
    "    if theta_mple > theta_critical:\n",
    "        reject_null_hypothesis, reason_code = 1, \"mple\"\n",
    "        return reject_hypothesis, reason_code\n",
    "    N = int(np.sqrt(len(lattice)))  # assume lattice is square and written as flat array\n",
    "    sampled_values_statistic = sorted([local_partition_function(\n",
    "        Ising_lattice(N, theta=theta_mple).ising_lattice, N, distance=2) for _ in range(number_ising_samples)])\n",
    "    test_lattice_statistic = local_partition_function(lattice, N, distance=2)\n",
    "    if (test_lattice_statistic < sampled_values_statistic[int(0.025 * number_ising_samples)] or\n",
    "        test_lattice_statistic > sampled_values_statistic[int(0.975 * number_ising_samples)]):\n",
    "        reject_null_hypothesis, reason_code = 1, \"p-value\"\n",
    "        return reject_null_hypothesis, reason_code\n",
    "    else:\n",
    "        return reject_null_hypothesis, \"fail\"\n",
    "    "
   ]
  },
  {
   "cell_type": "code",
   "execution_count": 5,
   "metadata": {
    "collapsed": true
   },
   "outputs": [],
   "source": [
    "# Tests\n",
    "\n",
    "def test_mple_ising():\n",
    "    # Construct Ising grid with pre-determined value of theta\n",
    "    # under the assumption that there is no external field\n",
    "    # theta = 0 corresponds to the high-temperature limit of\n",
    "    # the Ising model under 0 external field. In this case, the\n",
    "    # model is random.\n",
    "    epsilon = 5e-2\n",
    "    random_grid = random_array(40 ** 2)\n",
    "    print maximum_partial_likelihood_estimator(random_grid)\n",
    "    assert maximum_partial_likelihood_estimator(random_grid) < epsilon"
   ]
  },
  {
   "cell_type": "code",
   "execution_count": 17,
   "metadata": {
    "collapsed": false
   },
   "outputs": [
    {
     "data": {
      "image/png": "[encoded data removed]",
      "text/plain": [
       "<matplotlib.figure.Figure at 0x1137d50d0>"
      ]
     },
     "metadata": {},
     "output_type": "display_data"
    }
   ],
   "source": [
    "n_rows, n_cols, tau = 40, 40, 0.04\n",
    "social_grid004 = stochastic_social_network(n_rows, n_cols, tau)\n",
    "sns.heatmap(np.reshape(social_grid004, (n_rows, n_cols)), xticklabels=False, yticklabels=False);\n",
    "plt.title('Social network grid (tau = %.2f)' % tau);"
   ]
  },
  {
   "cell_type": "code",
   "execution_count": 14,
   "metadata": {
    "collapsed": false
   },
   "outputs": [
    {
     "data": {
      "image/png": "[encoded data removed]",
      "text/plain": [
       "<matplotlib.figure.Figure at 0x112e13ad0>"
      ]
     },
     "metadata": {},
     "output_type": "display_data"
    }
   ],
   "source": [
    "n_rows, n_cols, tau = 40, 40, 0.4\n",
    "social_grid04 = stochastic_social_network(n_rows, n_cols, tau)\n",
    "sns.heatmap(np.reshape(social_grid04, (n_rows, n_cols)), xticklabels=False, yticklabels=False);\n",
    "plt.title('Social network grid (tau = %.1f)' % tau);"
   ]
  },
  {
   "cell_type": "code",
   "execution_count": 9,
   "metadata": {
    "collapsed": false
   },
   "outputs": [
    {
     "data": {
      "image/png": "[encoded data removed]",
      "text/plain": [
       "<matplotlib.figure.Figure at 0x11322f590>"
      ]
     },
     "metadata": {},
     "output_type": "display_data"
    }
   ],
   "source": [
    "n_rows, n_cols, tau = 40, 40, 1\n",
    "social_grid1 = stochastic_social_network(n_rows, n_cols, tau)\n",
    "sns.heatmap(np.reshape(social_grid1, (n_rows, n_cols)), xticklabels=False, yticklabels=False,\n",
    "            cbar=True);\n",
    "plt.title('Social network grid (tau = %d)' % tau);"
   ]
  },
  {
   "cell_type": "markdown",
   "metadata": {},
   "source": [
    "### Ising model\n",
    "\n",
    "\n",
    "The data will be compared with an Ising model, of which we give an example state below with nearest-neighbour interaction $\\theta = 0.1$). It is clearly difficult to tell these states apartjust by looking at them."
   ]
  },
  {
   "cell_type": "code",
   "execution_count": 15,
   "metadata": {
    "collapsed": false
   },
   "outputs": [
    {
     "data": {
      "image/png": "[encoded data removed]",
      "text/plain": [
       "<matplotlib.figure.Figure at 0x110a47d90>"
      ]
     },
     "metadata": {},
     "output_type": "display_data"
    }
   ],
   "source": [
    "ising = Ising_lattice(40, 0.04)\n",
    "sns.heatmap(np.reshape(ising.ising_lattice, (40, 40)), xticklabels=False, yticklabels=False,\n",
    "            cbar=True);\n",
    "plt.title('Ising grid (theta = %.2f)' % 0.04);"
   ]
  },
  {
   "cell_type": "code",
   "execution_count": 12,
   "metadata": {
    "collapsed": false
   },
   "outputs": [
    {
     "data": {
      "image/png": "[encoded data removed]",
      "text/plain": [
       "<matplotlib.figure.Figure at 0x1131e9310>"
      ]
     },
     "metadata": {},
     "output_type": "display_data"
    }
   ],
   "source": [
    "ising04 = Ising_lattice(40, 0.4)\n",
    "sns.heatmap(np.reshape(ising04.ising_lattice, (40, 40)), xticklabels=False, yticklabels=False,\n",
    "            cbar=True);\n",
    "plt.title('Ising grid (theta = %.1f)' % 0.4);"
   ]
  },
  {
   "cell_type": "markdown",
   "metadata": {},
   "source": [
    "## Hypothesis testing\n",
    "\n",
    "Given the Ising model on a graph $G = (V, E)$,\n",
    "$$p(\\sigma)=\\exp\\left(\\theta_v\\sigma_v + \\theta_{u,v}\\sigma_u\\sigma_v - F({\\beta})\\right),$$\n",
    "where $\\sigma$ is one state, and $\\theta_v$ and $\\theta_{u, v}$ a local magnetic field and magnetic interaction terms, respectively, and $F(\\beta)$ proportional to the free energy.\n",
    "\n",
    "Our null hypothesis is that the sample is generated from an Ising model in the high temperature regime on the grid, with no external field (i.e. $\\theta_u = 0$ for all $u$) and a constant neares-neighbour interaction strength parameterized by $\\theta$ (i.e., $\\theta_{uv}=\\theta$ iff nodes $u$ and $v$ are adjacent in the grid, and $0$ otherwise). For the Ising model on the grid, the critical edge parameter for high-temperature is\n",
    "$\\theta_c=\\ln(1+\\sqrt{2})/2$. In other words, we are in high-temperature if and only if $\\theta\\leq \\theta_c$, and we can reject the null hypothesis if the MPLE estimate $\\hat{\\theta} > \\theta_c$.\n",
    "\n",
    "### Estimate Ising model parameters\n",
    "\n",
    "Given a single multivariate sample, we first run the maximum pseudo-likelihood estimator (MPLE) to obtain an estimate of the model’s parameters under the null hypothesis that the sample is generated by a high-temperature Ising model.\n",
    "\n",
    "The pseudo-likelihood is an approximation of the likelihood, where instead of the entire partition function, one needs to compute only a local partition function (is it a mean field approximation?).\n",
    "\n",
    "Given a random vector $\\sigma=(\\sigma_1, \\sigma_2, \\ldots , \\sigma_N)$ whose joint distribution is parametrized by a parameter $\\theta \\in \\mathbb{R}$, the MPLE of $\\theta$ is defined as\n",
    "$$\\hat{\\beta}_N := \\mbox{arg}\\,\\mbox{max}\\prod_{i=1}^{N} f_i(\\beta, \\sigma),$$\n",
    "where $f_i(\\theta, \\sigma)$ is the conditional probability density of $\\sigma_i$ given $(\\sigma_j)_{j\\neq i}$.\n",
    "\n",
    "For the case of the Ising model, this can be explicitly solved by computing the derivative with respect to $\\theta$\n",
    "$$L_{\\sigma}(\\theta) := \\frac{1}{N}\\sum_{i=1}^{N}m_i(\\sigma)(\\sigma_i - \\tanh(\\theta\\, m_i(\\sigma))),$$\n",
    "with\n",
    "$$m_i(\\sigma) := \\sum_{j=1}^{N}J_N(i, j)\\,\\sigma_j$$\n",
    "for some $\\sigma \\in S_N:=\\{−1, 1\\}^N$ and an $N\\times N$ symmetric matrix $J_N$ with zeros on the diagonals, indicating the interactions between spins on different sites.\n",
    "\n",
    "Note that $m_i(\\sigma)$ does not depend on $\\sigma_i$ since the diagonal element $J_N(i,i)=0$. Interpreting $\\tanh(\\pm\\infty) = \\pm 1$, the function $L_\\sigma$ can be extended to $[0,\\infty]$ by defining\n",
    "$L_{\\sigma}(\\infty):= \\frac{1}{N}\\sum_{i=1}^{N}\\left(m_i(\\sigma)\\sigma_i-|m_i(\\sigma)|\\right)$. Then it is easy to verify (see <a href=\"https://mathscinet.ams.org/mathscinet-getitem?mr=2363958\">Chatterjee</a>) that $\\frac{1}{N}\\frac{\\partial}{\\partial\\theta}\\log f_i(\\theta, \\sigma) = L_{\\sigma}(\\theta)$, and the function $L_{\\sigma}(\\theta)$ is a decreasing function of $\\theta$. Therefore, the MPLE for $\\theta$ in the Ising model is\n",
    "$$\\hat{\\theta}_N (\\sigma) := \\inf\\{ x \\geq 0 : L_{\\sigma}(x) = 0 \\}.$$\n",
    "\n",
    "In our case, our null hypothesis is that the data is generated by a nearest-neighbour Ising model with constant interaction and zero external field, in the high temperature regime.\n",
    "\n",
    "Nearest neigbour interactions means that the matrix $J_N(i,j)$ has values $1$ on the elements with $|i-j|=1$ and zeros everywhere else, $J_N(i, j) = \\delta_{|i-j|, 0}$:\n",
    "$$J_N = \\begin{pmatrix}\n",
    "0 & \\theta & 0 & 0 & \\cdots & 0\\\\\n",
    "\\theta & 0 & \\theta & 0 & \\cdots & 0\\\\\n",
    "0 & \\theta & 0 & \\theta &  & 0 \\\\\n",
    "\\vdots & \\ddots & \\ddots & \\ddots & \\ddots &\\\\\n",
    "0 & \\cdots & 0 &\\theta & 0 & \\theta \\\\\n",
    "0 & \\cdots & 0 &0&\\theta & 0\n",
    "\\end{pmatrix}.$$\n",
    "This greatly simplifies the equations:\n",
    "$$m_i(\\sigma) = \\left\\{\n",
    "\\begin{array}{cc}\n",
    "\\theta\\sigma_2 & i=1\\\\\n",
    "\\theta\\sigma_{N-1} & i=N\\\\\n",
    "\\theta(\\sigma_{i-1}+\\sigma_{i+1}) & 1 < i < N\n",
    "\\end{array}\n",
    "\\right.$$\n",
    "So we have\n",
    "$$\n",
    "L_{\\sigma}(\\theta) = \\frac{\\theta}{N}\\left(\n",
    "\\sigma_2\\left(\\sigma_1-\\tanh(\\theta\\sigma_2)\\right) + \\sigma_{N-1}\\left(\\sigma_N - \\tanh(\\theta\\sigma_{N-1})\\right) + \\sum_{i=2}^{N-1}\\left(\\sigma_{i-1}+\\sigma_{i+1})(\\sigma_{i} - \\tanh(\\theta(\\sigma_{i-1} + \\sigma_{i+1}))\\right)\n",
    "\\right)\n",
    "$$"
   ]
  },
  {
   "cell_type": "code",
   "execution_count": 18,
   "metadata": {
    "collapsed": false
   },
   "outputs": [
    {
     "name": "stdout",
     "output_type": "stream",
     "text": [
      "MPLE estimate of theta: 0.151102841511\n",
      "High-temperature regime: True\n"
     ]
    }
   ],
   "source": [
    "n_rows, n_cols, tau = 40, 40, 1\n",
    "social_grid = stochastic_social_network(n_rows, n_cols, tau)\n",
    "theta_mple = maximum_partial_likelihood_estimator(social_grid)\n",
    "print \"MPLE estimate of theta:\", theta_mple\n",
    "print \"High-temperature regime:\", theta_mple <= theta_critical"
   ]
  },
  {
   "cell_type": "markdown",
   "metadata": {},
   "source": [
    "### MCMC using MPLE parameters\n",
    "If the value of $\\hat{\\theta}$ is lower than the critical value, i.e. we cannot reject the null hypothesis on the grounds of it not being in the high temperature regime, we instead compute a statistic and compare its value of the sample to a range of values computed on a sample of high-temperature Ising models with the estimated nearest-neighbour interaction $\\hat{\\theta}$.\n",
    "We use the local partition function as a statistic:\n",
    "$$Z_{\\mbox{local}} =  \\sum_{u=(i,j)} \\sum_{v=(k,l): d(u,v)\\leq 2} X_uX_v,$$\n",
    "with $d(u, v)$ the Manhattan distance between two lattice sites $u$ and $v$.\n",
    "\n",
    "The statistic $Z_{\\mbox{local}}$ is bilinear in the Ising model, which means it is better able to reject the null hypothesis, since its distribution for the Ising model will be very concentrated. In order to sample from the Ising distribution in the high temperature limit, we start with a random lattice and run the Glauber algorithm, which computes the transition probability of one state to another $\\sigma_i\\rightarrow \\sigma_j$ as:\n",
    "$$P(\\sigma_i \\rightarrow \\sigma_j) = \\frac{1}{1 + e^{\\theta\\Delta E_{ji}}}.$$\n",
    "In the high temperature regime, mixing occurs quickly, and one needs to run these steps only $O(n\\log n)$ times.\n",
    "\n",
    "Finally, given the range of values for the statistic determined by MCMC, we reject the null hypothesis if p ≤ 0.05."
   ]
  },
  {
   "cell_type": "code",
   "execution_count": 19,
   "metadata": {
    "collapsed": true
   },
   "outputs": [],
   "source": [
    "ising_mple = Ising_lattice(N=40, theta=theta_mple)"
   ]
  },
  {
   "cell_type": "code",
   "execution_count": 25,
   "metadata": {
    "collapsed": false
   },
   "outputs": [
    {
     "data": {
      "image/png": "[encoded data removed]",
      "text/plain": [
       "<matplotlib.figure.Figure at 0x112b7c190>"
      ]
     },
     "metadata": {},
     "output_type": "display_data"
    }
   ],
   "source": [
    "sns.heatmap(\n",
    "    np.reshape(ising_mple.ising_lattice, (40, 40)),\n",
    "    xticklabels=False, yticklabels=False, cbar=True);\n",
    "plt.title('Ising grid with theta = MPLE estimate of social network grid (tau = 1)');"
   ]
  },
  {
   "cell_type": "code",
   "execution_count": 22,
   "metadata": {
    "collapsed": false
   },
   "outputs": [],
   "source": [
    "N = 40\n",
    "sampled_values_statistic = sorted([local_partition_function(\n",
    "    Ising_lattice(N, theta=theta_mple).ising_lattice, N, distance=2) for _ in range(100)])"
   ]
  },
  {
   "cell_type": "code",
   "execution_count": 23,
   "metadata": {
    "collapsed": false
   },
   "outputs": [
    {
     "name": "stdout",
     "output_type": "stream",
     "text": [
      "DescribeResult(nobs=100, minmax=(864.0, 2392.0), mean=1534.48, variance=89580.211717171711, skewness=0.3952761009373896, kurtosis=0.20767072100926853)\n"
     ]
    },
    {
     "data": {
      "image/png": "[encoded data removed]",
      "text/plain": [
       "<matplotlib.figure.Figure at 0x1134aa310>"
      ]
     },
     "metadata": {},
     "output_type": "display_data"
    }
   ],
   "source": [
    "print sp.stats.describe(sampled_values_statistic)\n",
    "sns.distplot(sampled_values_statistic);\n",
    "plt.title('Distribution of Z_2 statistic on Ising grid with theta = MPLE estimate');"
   ]
  },
  {
   "cell_type": "markdown",
   "metadata": {},
   "source": [
    "Compare this to the value of the local partition function for our social network lattice"
   ]
  },
  {
   "cell_type": "code",
   "execution_count": 26,
   "metadata": {
    "collapsed": false
   },
   "outputs": [
    {
     "name": "stdout",
     "output_type": "stream",
     "text": [
      "Value of Z_2 statistic on social network grid (tau = 1): 2704.0\n",
      "Reject null hypothesis (used cutoff p = 0.05)!\n"
     ]
    }
   ],
   "source": [
    "statistic_social_grid = local_partition_function(social_grid, N, distance=2)\n",
    "reject_null = ((statistic_social_grid > sampled_values_statistic[95]) or (statistic_social_grid < sampled_values_statistic[5]))\n",
    "print 'Value of Z_2 statistic on social network grid (tau = 1):', statistic_social_grid\n",
    "print \"Reject null hypothesis (used cutoff p = 0.05)!\" if reject_null else \"Failed to reject null hypothesis.\""
   ]
  },
  {
   "cell_type": "markdown",
   "metadata": {},
   "source": [
    "So it looks like the case $\\tau = 1$ is quite easy to distinguish from an Ising grid."
   ]
  },
  {
   "cell_type": "markdown",
   "metadata": {},
   "source": [
    "### Plot probability of rejecting null hypothesis vs tau\n",
    "\n",
    "In order to test the power of this statistic in rejecting the null hypothesis for cases when the departure from high temperature Ising is less pronounced, we plot the probability of rejecting vs $\\tau$."
   ]
  },
  {
   "cell_type": "code",
   "execution_count": null,
   "metadata": {
    "collapsed": true
   },
   "outputs": [],
   "source": [
    "# 1. Construct network sample with value of tau\n",
    "# 2. Get theta_mple\n",
    "# 3. Check if theta_mple > theta_critical\n",
    "#    -> return \"Reject null hypothesis: theta_mple > theta_critical\" if (theta_mple > theta_critical)\n",
    "# 4. Generate 100 Ising samples with theta_mple\n",
    "# 5. Compute local partition function for network sample\n",
    "# 6. Compute local partition function for 100 Ising samples\n",
    "# 7. Compute p-value\n",
    "#    -> return \"Reject null hypothesis: p < 0.05\" if p < 0.05 else \"Do not reject null hypothesis\""
   ]
  },
  {
   "cell_type": "code",
   "execution_count": 27,
   "metadata": {
    "collapsed": false
   },
   "outputs": [
    {
     "name": "stdout",
     "output_type": "stream",
     "text": [
      "tau: 0.001\n",
      ". . . . . . . . . . . . . . . . . . . . . . . . . . . . . . . . . . . . . . . . . . . . . . . . . . . . . . . . . . . . . . . . . . . . . . . . . . . . . . . . . . . . . . . . . . . . . . . . . . . . tau: 0.002\n",
      ". . . . . . . . . . . . . . . . . . . . . . . . . . . . . . . . . . . . . . . . . . . . . . . . . . . . . . . . . . . . . . . . . . . . . . . . . . . . . . . . . . . . . . . . . . . . . . . . . . . . tau: 0.004\n",
      ". . . . . . . . . . . . . . . . . . . . . . . . . . . . . . . . . . . . . . . . . . . . . . . . . . . . . . . . . . . . . . . . . . . . . . . . . . . . . . . . . . . . . . . . . . . . . . . . . . . . tau: 0.006\n",
      ". . . . . . . . . . . . . . . . . . . . . . . . . . . . . . . . . . . . . . . . . . . . . . . . . . . . . . . . . . . . . . . . . . . . . . . . . . . . . . . . . . . . . . . . . . . . . . . . . . . . tau: 0.008\n",
      ". . . . . . . . . . . . . . . . . . . . . . . . . . . . . . . . . . . . . . . . . . . . . . . . . . . . . . . . . . . . . . . . . . . . . . . . . . . . . . . . . . . . . . . . . . . . . . . . . . . . tau: 0.01\n",
      ". . . . . . . . . . . . . . . . . . . . . . . . . . . . . . . . . . . . . . . . . . . . . . . . . . . . . . . . . . . . . . . . . . . . . . . . . . . . . . . . . . . . . . . . . . . . . . . . . . . . tau: 0.02\n",
      ". . . . . . . . . . . . . . . . . . . . . . . . . . . . . . . . . . . . . . . . . . . . . . . . . . . . . . . . . . . . . . . . . . . . . . . . . . . . . . . . . . . . . . . . . . . . . . . . . . . . tau: 0.04\n",
      ". . . . . . . . . . . . . . . . . . . . . . . . . . . . . . . . . . . . . . . . . . . . . . . . . . . . . . . . . . . . . . . . . . . . . . . . . . . . . . . . . . . . . . . . . . . . . . . . . . . . tau: 0.06\n",
      ". . . . . . . . . . . . . . . . . . . . . . . . . . . . . . . . . . . . . . . . . . . . . . . . . . . . . . . . . . . . . . . . . . . . . . . . . . . . . . . . . . . . . . . . . . . . . . . . . . . . tau: 0.08\n",
      ". . . . . . . . . . . . . . . . . . . . . . . . . . . . . . . . . . . . . . . . . . . . . . . . . . . . . . . . . . . . . . . . . . . . . . . . . . . . . . . . . . . . . . . . . . . . . . . . . . . . tau: 0.1\n",
      ". . . . . . . . . . . . . . . . . . . . . . . . . . . . . . . . . . . . . . . . . . . . . . . . . . . . . . . . . . . . . . . . . . . . . . . . . . . . . . . . . . . . . . . . . . . . . . . . . . . . tau: 0.2\n",
      ". . . . . . . . . . . . . . . . . . . . . . . . . . . . . . . . . . . . . . . . . . . . . . . . . . . . . . . . . . . . . . . . . . . . . . . . . . . . . . . . . . . . . . . . . . . . . . . . . . . . tau: 0.4\n",
      ". . . . . . . . . . . . . . . . . . . . . . . . . . . . . . . . . . . . . . . . . . . . . . . . . . . . . . . . . . . . . . . . . . . . . . . . . . . . . . . . . . . . . . . . . . . . . . . . . . . . tau: 0.6\n",
      ". . . . . . . . . . . . . . . . . . . . . . . . . . . . . . . . . . . . . . . . . . . . . . . . . . . . . . . . . . . . . . . . . . . . . . . . . . . . . . . . . . . . . . . . . . . . . . . . . . . . tau: 0.8\n",
      ". . . . . . . . . . . . . . . . . . . . . . . . . . . . . . . . . . . . . . . . . . . . . . . . . . . . . . . . . . . . . . . . . . . . . . . . . . . . . . . . . . . . . . . . . . . . . . . . . . . .\n"
     ]
    }
   ],
   "source": [
    "outcome_data = []\n",
    "for tau in [1e-3, 2e-3, 4e-3, 6e-3, 8e-3, 1e-2, 2e-2, 4e-2, 6e-2, 8e-2, 1e-1, 2e-1, 4e-1, 6e-1, 8e-1]:\n",
    "    print \"tau:\", tau\n",
    "    reasons, test_outcomes = [], []\n",
    "    for _ in range(100):\n",
    "        print \".\",\n",
    "        social_grid = stochastic_social_network(n_rows, n_cols, tau)\n",
    "        reject_null, reason = hypothesis_test_high_temp_ising(social_grid)\n",
    "        test_outcomes.append(reject_null)\n",
    "        reasons.append(reason)\n",
    "    outcome_data.append(\n",
    "        {'tau': tau,\n",
    "         'reject_null_avg': np.mean(test_outcomes),\n",
    "         'reasons': reasons})"
   ]
  },
  {
   "cell_type": "code",
   "execution_count": 37,
   "metadata": {
    "collapsed": false
   },
   "outputs": [
    {
     "data": {
      "image/png": "[encoded data removed]",
      "text/plain": [
       "<matplotlib.figure.Figure at 0x113550290>"
      ]
     },
     "metadata": {},
     "output_type": "display_data"
    }
   ],
   "source": [
    "fig, ax = plt.subplots()\n",
    "ax.set(xscale='log')\n",
    "sns.plt.plot([data['tau'] for data in outcome_data],\n",
    "             [data[\"reject_null_avg\"] for data in outcome_data]);\n",
    "\n",
    "plt.title('Rejections of null hypothesis (high-T Ising)')\n",
    "# Set x-axis label\n",
    "plt.xlabel('log(tau) (departure from high-T Ising model)')\n",
    "# Set y-axis label\n",
    "plt.ylabel('fraction of rejections');"
   ]
  },
  {
   "cell_type": "markdown",
   "metadata": {},
   "source": []
  }
 ],
 "metadata": {
  "anaconda-cloud": {},
  "kernelspec": {
   "display_name": "Python [conda env:arena]",
   "language": "python",
   "name": "conda-env-arena-py"
  },
  "language_info": {
   "codemirror_mode": {
    "name": "ipython",
    "version": 2
   },
   "file_extension": ".py",
   "mimetype": "text/x-python",
   "name": "python",
   "nbconvert_exporter": "python",
   "pygments_lexer": "ipython2",
   "version": "2.7.13"
  },
  "latex_envs": {
   "LaTeX_envs_menu_present": true,
   "autocomplete": true,
   "bibliofile": "biblio.bib",
   "cite_by": "apalike",
   "current_citInitial": 1,
   "eqLabelWithNumbers": true,
   "eqNumInitial": 1,
   "hotkeys": {
    "equation": "Ctrl-E",
    "itemize": "Ctrl-I"
   },
   "labels_anchors": false,
   "latex_user_defs": false,
   "report_style_numbering": false,
   "user_envs_cfg": false
  },
  "toc": {
   "colors": {
    "hover_highlight": "#DAA520",
    "navigate_num": "#000000",
    "navigate_text": "#333333",
    "running_highlight": "#FF0000",
    "selected_highlight": "#FFD700",
    "sidebar_border": "#EEEEEE",
    "wrapper_background": "#FFFFFF"
   },
   "moveMenuLeft": true,
   "nav_menu": {
    "height": "117px",
    "width": "252px"
   },
   "navigate_menu": true,
   "number_sections": true,
   "sideBar": true,
   "threshold": 4,
   "toc_cell": false,
   "toc_position": {
    "height": "476px",
    "left": "0px",
    "right": "1004px",
    "top": "107px",
    "width": "212px"
   },
   "toc_section_display": "block",
   "toc_window_display": true,
   "widenNotebook": false
  }
 },
 "nbformat": 4,
 "nbformat_minor": 2
}
